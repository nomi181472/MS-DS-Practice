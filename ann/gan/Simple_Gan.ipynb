{
  "nbformat": 4,
  "nbformat_minor": 0,
  "metadata": {
    "colab": {
      "provenance": [],
      "gpuType": "T4",
      "authorship_tag": "ABX9TyO8V778UiiGwc9rlqaLc/ou",
      "include_colab_link": true
    },
    "kernelspec": {
      "name": "python3",
      "display_name": "Python 3"
    },
    "language_info": {
      "name": "python"
    },
    "accelerator": "GPU"
  },
  "cells": [
    {
      "cell_type": "markdown",
      "metadata": {
        "id": "view-in-github",
        "colab_type": "text"
      },
      "source": [
        "<a href=\"https://colab.research.google.com/github/nomi181472/MS-DS-Practice/blob/main/ann/gan/Simple_Gan.ipynb\" target=\"_parent\"><img src=\"https://colab.research.google.com/assets/colab-badge.svg\" alt=\"Open In Colab\"/></a>"
      ]
    },
    {
      "cell_type": "code",
      "execution_count": 1,
      "metadata": {
        "id": "N31T114Wkwmd"
      },
      "outputs": [],
      "source": [
        "import torch\n",
        "import torch.nn as nn\n",
        "import torchvision\n",
        "import torchvision.transforms as transforms\n",
        "from torchvision.utils import save_image\n",
        "import numpy as np\n",
        "\n",
        "import matplotlib.pyplot as plt\n",
        "from datetime import datetime\n",
        "import os"
      ]
    },
    {
      "cell_type": "code",
      "source": [
        "transform=transforms.Compose(\n",
        "    [\n",
        "        transforms.ToTensor(),\n",
        "        transforms.Normalize(mean=(0.5,),std=(0.5,),),\n",
        "\n",
        "    ]\n",
        ")"
      ],
      "metadata": {
        "id": "jJsaARUWlWGd"
      },
      "execution_count": 2,
      "outputs": []
    },
    {
      "cell_type": "code",
      "source": [
        "train_dataset=torchvision.datasets.MNIST(\n",
        "    root=\",\",\n",
        "    train=True,\n",
        "    transform=transform,\n",
        "    download=True\n",
        ")"
      ],
      "metadata": {
        "colab": {
          "base_uri": "https://localhost:8080/"
        },
        "id": "fpEqh-RRlxmc",
        "outputId": "ab9a35ec-2332-4f91-e154-2d0093995fec"
      },
      "execution_count": 3,
      "outputs": [
        {
          "output_type": "stream",
          "name": "stdout",
          "text": [
            "Downloading http://yann.lecun.com/exdb/mnist/train-images-idx3-ubyte.gz\n",
            "Downloading http://yann.lecun.com/exdb/mnist/train-images-idx3-ubyte.gz to ,/MNIST/raw/train-images-idx3-ubyte.gz\n"
          ]
        },
        {
          "output_type": "stream",
          "name": "stderr",
          "text": [
            "100%|██████████| 9912422/9912422 [00:00<00:00, 99181776.26it/s]\n"
          ]
        },
        {
          "output_type": "stream",
          "name": "stdout",
          "text": [
            "Extracting ,/MNIST/raw/train-images-idx3-ubyte.gz to ,/MNIST/raw\n",
            "\n",
            "Downloading http://yann.lecun.com/exdb/mnist/train-labels-idx1-ubyte.gz\n",
            "Downloading http://yann.lecun.com/exdb/mnist/train-labels-idx1-ubyte.gz to ,/MNIST/raw/train-labels-idx1-ubyte.gz\n"
          ]
        },
        {
          "output_type": "stream",
          "name": "stderr",
          "text": [
            "100%|██████████| 28881/28881 [00:00<00:00, 89267276.22it/s]\n"
          ]
        },
        {
          "output_type": "stream",
          "name": "stdout",
          "text": [
            "Extracting ,/MNIST/raw/train-labels-idx1-ubyte.gz to ,/MNIST/raw\n",
            "\n",
            "Downloading http://yann.lecun.com/exdb/mnist/t10k-images-idx3-ubyte.gz\n",
            "Downloading http://yann.lecun.com/exdb/mnist/t10k-images-idx3-ubyte.gz to ,/MNIST/raw/t10k-images-idx3-ubyte.gz\n"
          ]
        },
        {
          "output_type": "stream",
          "name": "stderr",
          "text": [
            "100%|██████████| 1648877/1648877 [00:00<00:00, 27649077.47it/s]\n"
          ]
        },
        {
          "output_type": "stream",
          "name": "stdout",
          "text": [
            "Extracting ,/MNIST/raw/t10k-images-idx3-ubyte.gz to ,/MNIST/raw\n",
            "\n",
            "Downloading http://yann.lecun.com/exdb/mnist/t10k-labels-idx1-ubyte.gz\n",
            "Downloading http://yann.lecun.com/exdb/mnist/t10k-labels-idx1-ubyte.gz to ,/MNIST/raw/t10k-labels-idx1-ubyte.gz\n"
          ]
        },
        {
          "output_type": "stream",
          "name": "stderr",
          "text": [
            "100%|██████████| 4542/4542 [00:00<00:00, 5249525.70it/s]"
          ]
        },
        {
          "output_type": "stream",
          "name": "stdout",
          "text": [
            "Extracting ,/MNIST/raw/t10k-labels-idx1-ubyte.gz to ,/MNIST/raw\n",
            "\n"
          ]
        },
        {
          "output_type": "stream",
          "name": "stderr",
          "text": [
            "\n"
          ]
        }
      ]
    },
    {
      "cell_type": "code",
      "source": [
        "test_dataset=torchvision.datasets.MNIST(\n",
        "    root=\",\",\n",
        "    train=False,\n",
        "    transform=transform,\n",
        "    download=True\n",
        ")"
      ],
      "metadata": {
        "id": "V3ECXpaYl9In"
      },
      "execution_count": 4,
      "outputs": []
    },
    {
      "cell_type": "code",
      "source": [
        "len(train_dataset)"
      ],
      "metadata": {
        "colab": {
          "base_uri": "https://localhost:8080/"
        },
        "id": "sPRVl3BumWlT",
        "outputId": "dd084b37-9828-4145-d6cb-158c4485d8ba"
      },
      "execution_count": 5,
      "outputs": [
        {
          "output_type": "execute_result",
          "data": {
            "text/plain": [
              "60000"
            ]
          },
          "metadata": {},
          "execution_count": 5
        }
      ]
    },
    {
      "cell_type": "code",
      "source": [
        "batch_size=128\n",
        "data_loader=torch.utils.data.DataLoader(train_dataset,batch_size=batch_size,shuffle=True)"
      ],
      "metadata": {
        "id": "m3NUw3nQmYzO"
      },
      "execution_count": 6,
      "outputs": []
    },
    {
      "cell_type": "code",
      "source": [
        "D=nn.Sequential(\n",
        "    nn.Linear(784,512),\n",
        "    nn.LeakyReLU(0.2),\n",
        "    nn.Linear(512,256),\n",
        "    nn.LeakyReLU(0.2),\n",
        "    nn.Linear(256,1)\n",
        ")\n",
        "D"
      ],
      "metadata": {
        "colab": {
          "base_uri": "https://localhost:8080/"
        },
        "id": "xfTqbtrGmlA2",
        "outputId": "93393d2a-c4d3-4cf5-e90f-0cbcde7deca2"
      },
      "execution_count": 7,
      "outputs": [
        {
          "output_type": "execute_result",
          "data": {
            "text/plain": [
              "Sequential(\n",
              "  (0): Linear(in_features=784, out_features=512, bias=True)\n",
              "  (1): LeakyReLU(negative_slope=0.2)\n",
              "  (2): Linear(in_features=512, out_features=256, bias=True)\n",
              "  (3): LeakyReLU(negative_slope=0.2)\n",
              "  (4): Linear(in_features=256, out_features=1, bias=True)\n",
              ")"
            ]
          },
          "metadata": {},
          "execution_count": 7
        }
      ]
    },
    {
      "cell_type": "code",
      "source": [
        "latin_dim=10\n",
        "G=nn.Sequential(\n",
        "    nn.Linear(latin_dim,256),\n",
        "    nn.LeakyReLU(-.2),\n",
        "    nn.BatchNorm1d(256,momentum=0.7),\n",
        "\n",
        "    nn.Linear(256,512),\n",
        "    nn.LeakyReLU(0.2),\n",
        "    nn.BatchNorm1d(512,momentum=0.7),\n",
        "\n",
        "\n",
        "    nn.Linear(512,1024),\n",
        "    nn.LeakyReLU(),\n",
        "    nn.BatchNorm1d(1024,momentum=0.7),\n",
        "\n",
        "    nn.Linear(1024,784),\n",
        "    nn.Tanh()\n",
        "\n",
        "\n",
        ")\n",
        "G"
      ],
      "metadata": {
        "colab": {
          "base_uri": "https://localhost:8080/"
        },
        "id": "fmaazMlHm6u5",
        "outputId": "20ad1434-bc9b-4e4e-db3e-f10f3371c789"
      },
      "execution_count": 8,
      "outputs": [
        {
          "output_type": "execute_result",
          "data": {
            "text/plain": [
              "Sequential(\n",
              "  (0): Linear(in_features=10, out_features=256, bias=True)\n",
              "  (1): LeakyReLU(negative_slope=-0.2)\n",
              "  (2): BatchNorm1d(256, eps=1e-05, momentum=0.7, affine=True, track_running_stats=True)\n",
              "  (3): Linear(in_features=256, out_features=512, bias=True)\n",
              "  (4): LeakyReLU(negative_slope=0.2)\n",
              "  (5): BatchNorm1d(512, eps=1e-05, momentum=0.7, affine=True, track_running_stats=True)\n",
              "  (6): Linear(in_features=512, out_features=1024, bias=True)\n",
              "  (7): LeakyReLU(negative_slope=0.01)\n",
              "  (8): BatchNorm1d(1024, eps=1e-05, momentum=0.7, affine=True, track_running_stats=True)\n",
              "  (9): Linear(in_features=1024, out_features=784, bias=True)\n",
              "  (10): Tanh()\n",
              ")"
            ]
          },
          "metadata": {},
          "execution_count": 8
        }
      ]
    },
    {
      "cell_type": "code",
      "source": [
        "device=torch.device(\"cuda\" if torch.cuda.is_available() else \"cpu\")\n",
        "device"
      ],
      "metadata": {
        "colab": {
          "base_uri": "https://localhost:8080/"
        },
        "id": "Q2H4WxxQnxwW",
        "outputId": "c47a3528-d4a1-40f1-f5d0-ff49dc941a4d"
      },
      "execution_count": 9,
      "outputs": [
        {
          "output_type": "execute_result",
          "data": {
            "text/plain": [
              "device(type='cuda')"
            ]
          },
          "metadata": {},
          "execution_count": 9
        }
      ]
    },
    {
      "cell_type": "code",
      "source": [
        "D=D.to(device)\n",
        "G=G.to(device)"
      ],
      "metadata": {
        "id": "SJGMp75foAHx"
      },
      "execution_count": 10,
      "outputs": []
    },
    {
      "cell_type": "code",
      "source": [
        "criterion=nn.BCEWithLogitsLoss()\n",
        "d_optim=torch.optim.Adam(D.parameters(),lr=0.0002,betas=(0.5,0.999))\n",
        "g_optim=torch.optim.Adam(G.parameters(),lr=0.0002,betas=(0.5,0.999))"
      ],
      "metadata": {
        "id": "L6nHBYkUoFTT"
      },
      "execution_count": 11,
      "outputs": []
    },
    {
      "cell_type": "code",
      "source": [
        "def scale_image(img):\n",
        "  out= (img+1)/2\n",
        "  return out"
      ],
      "metadata": {
        "id": "ute4OIogocLw"
      },
      "execution_count": 12,
      "outputs": []
    },
    {
      "cell_type": "code",
      "source": [
        "if not os.path.exists(\"gan_images\"):\n",
        "  os.makedirs(\"gan_images\")"
      ],
      "metadata": {
        "id": "ja5qOgt7ok1y"
      },
      "execution_count": 13,
      "outputs": []
    },
    {
      "cell_type": "code",
      "source": [
        "ones_=torch.ones(batch_size,1).to(device)\n",
        "zeros_=torch.zeros(batch_size,1).to(device)\n",
        "\n",
        "\n",
        "d_losses=[]\n",
        "g_losses=[]\n",
        "\n",
        "\n",
        "for epoch in range(200):\n",
        "  for inputs, _ in data_loader:\n",
        "\n",
        "    n=inputs.size(0)\n",
        "    inputs=inputs.reshape(n,784).to(device)\n",
        "    ones=ones_[:n]\n",
        "    zeros=zeros_[:n]\n",
        "\n",
        "    #real\n",
        "    real_outputs=D(inputs)\n",
        "    d_loss_real=criterion(real_outputs,ones)\n",
        "\n",
        "    #fake\n",
        "    noise=torch.randn(n,latin_dim).to(device)\n",
        "    fake_images=G(noise)\n",
        "    fake_outputs=D(fake_images)\n",
        "    d_loss_fake= criterion(fake_outputs,zeros)\n",
        "\n",
        "    #gradient descent step\n",
        "\n",
        "    d_loss=0.5 * (d_loss_real +d_loss_fake)\n",
        "    d_optim.zero_grad()\n",
        "    g_optim.zero_grad()\n",
        "    d_loss.backward()\n",
        "    d_optim.step()\n",
        "\n",
        "    #train generator\n",
        "\n",
        "    for _ in range(2):\n",
        "      #fake images\n",
        "      noise=torch.randn(n,latin_dim,).to(device)\n",
        "      fake_images=G(noise)\n",
        "      fake_outputs=D(fake_images)\n",
        "      #reverse the labels\n",
        "      g_loss=criterion(fake_outputs,ones)\n",
        "\n",
        "      #gradient descent step\n",
        "      d_optim.zero_grad()\n",
        "      g_optim.zero_grad()\n",
        "      g_loss.backward()\n",
        "      g_optim.step()\n",
        "\n",
        "    #save losses\n",
        "    d_losses.append(d_loss.item())\n",
        "    g_losses.append(g_loss.item())\n",
        "  print(f\"epoch:{epoch+1}/200 d_loss:{d_loss.item()}  g_loss: {g_loss.item()}\")\n",
        "\n",
        "  fake_images=fake_images.reshape(-1,1,28,28)\n",
        "  save_image(scale_image(fake_images),f\"gan_images/{epoch+1}.png\")\n",
        "\n",
        "\n",
        "\n",
        "\n",
        "\n",
        "\n",
        "\n"
      ],
      "metadata": {
        "colab": {
          "base_uri": "https://localhost:8080/"
        },
        "id": "rQmZEy0dowZX",
        "outputId": "5a37314e-d474-41b2-97a8-06aa528f67d5"
      },
      "execution_count": null,
      "outputs": [
        {
          "output_type": "stream",
          "name": "stdout",
          "text": [
            "epoch:1/200 d_loss:0.6876547336578369  g_loss: 0.6849592924118042\n",
            "epoch:2/200 d_loss:0.6792889833450317  g_loss: 0.6885757446289062\n",
            "epoch:3/200 d_loss:0.702298641204834  g_loss: 0.7209219932556152\n",
            "epoch:4/200 d_loss:0.6913845539093018  g_loss: 0.706448495388031\n",
            "epoch:5/200 d_loss:0.6924445033073425  g_loss: 0.6903718709945679\n",
            "epoch:6/200 d_loss:0.6996534466743469  g_loss: 0.6983050107955933\n",
            "epoch:7/200 d_loss:0.6976673603057861  g_loss: 0.7216713428497314\n",
            "epoch:8/200 d_loss:0.6877574324607849  g_loss: 0.6999737620353699\n",
            "epoch:9/200 d_loss:0.6972793936729431  g_loss: 0.6584462523460388\n",
            "epoch:10/200 d_loss:0.6918821334838867  g_loss: 0.7415479421615601\n",
            "epoch:11/200 d_loss:0.6989825367927551  g_loss: 0.6271547675132751\n",
            "epoch:12/200 d_loss:0.6933650374412537  g_loss: 0.690377950668335\n",
            "epoch:13/200 d_loss:0.6912143230438232  g_loss: 0.7164678573608398\n",
            "epoch:14/200 d_loss:0.6956421136856079  g_loss: 0.7128937244415283\n",
            "epoch:15/200 d_loss:0.6893370747566223  g_loss: 0.6889240741729736\n",
            "epoch:16/200 d_loss:0.6886900663375854  g_loss: 0.713748574256897\n",
            "epoch:17/200 d_loss:0.6940321922302246  g_loss: 0.6622369289398193\n",
            "epoch:18/200 d_loss:0.6974574327468872  g_loss: 0.6875790953636169\n",
            "epoch:19/200 d_loss:0.6921906471252441  g_loss: 0.6973505020141602\n",
            "epoch:20/200 d_loss:0.6857966184616089  g_loss: 0.7091538310050964\n",
            "epoch:21/200 d_loss:0.6950842142105103  g_loss: 0.7034615874290466\n",
            "epoch:22/200 d_loss:0.6937223672866821  g_loss: 0.6880879402160645\n",
            "epoch:23/200 d_loss:0.6924700736999512  g_loss: 0.6923574805259705\n",
            "epoch:24/200 d_loss:0.6938731670379639  g_loss: 0.6952464580535889\n",
            "epoch:25/200 d_loss:0.6907119750976562  g_loss: 0.6900936961174011\n",
            "epoch:26/200 d_loss:0.6913048028945923  g_loss: 0.6602210402488708\n",
            "epoch:27/200 d_loss:0.6912429332733154  g_loss: 0.7075444459915161\n",
            "epoch:28/200 d_loss:0.6928577423095703  g_loss: 0.7069801688194275\n",
            "epoch:29/200 d_loss:0.6924699544906616  g_loss: 0.6955637335777283\n",
            "epoch:30/200 d_loss:0.6933513283729553  g_loss: 0.6779228448867798\n",
            "epoch:31/200 d_loss:0.6967101097106934  g_loss: 0.6945613622665405\n",
            "epoch:32/200 d_loss:0.6967142224311829  g_loss: 0.6798550486564636\n"
          ]
        }
      ]
    },
    {
      "cell_type": "code",
      "source": [
        "plt.plot(g_losses,label=\"g_losses\")\n",
        "plt.plot(d_losses,label=\"d_losses\")\n",
        "plt.legend()\n",
        "plt.show()"
      ],
      "metadata": {
        "id": "cIvrkO2Fr_rl"
      },
      "execution_count": null,
      "outputs": []
    },
    {
      "cell_type": "code",
      "source": [],
      "metadata": {
        "id": "LX85bnlks6LP"
      },
      "execution_count": null,
      "outputs": []
    }
  ]
}