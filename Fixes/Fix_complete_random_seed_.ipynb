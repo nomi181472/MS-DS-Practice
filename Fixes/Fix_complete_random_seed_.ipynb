{
  "nbformat": 4,
  "nbformat_minor": 0,
  "metadata": {
    "colab": {
      "provenance": [],
      "authorship_tag": "ABX9TyPSCji6baiqDjkYC36OGkVC",
      "include_colab_link": true
    },
    "kernelspec": {
      "name": "python3",
      "display_name": "Python 3"
    },
    "language_info": {
      "name": "python"
    }
  },
  "cells": [
    {
      "cell_type": "markdown",
      "metadata": {
        "id": "view-in-github",
        "colab_type": "text"
      },
      "source": [
        "<a href=\"https://colab.research.google.com/github/nomi181472/MS-DS-Practice/blob/main/Fixes/Fix_complete_random_seed_.ipynb\" target=\"_parent\"><img src=\"https://colab.research.google.com/assets/colab-badge.svg\" alt=\"Open In Colab\"/></a>"
      ]
    },
    {
      "cell_type": "code",
      "execution_count": 3,
      "metadata": {
        "id": "QSW2qjK7p_Ym"
      },
      "outputs": [],
      "source": [
        "# Set random state\n",
        "import numpy as np\n",
        "import random\n",
        "import os\n",
        "def fix_all_seeds(seed):\n",
        "    np.random.seed(seed)\n",
        "    random.seed(seed)\n",
        "    os.environ['PYTHONHASHSEED'] = str(seed)\n",
        "\n",
        "random_state = 4\n",
        "fix_all_seeds(random_state)"
      ]
    },
    {
      "cell_type": "code",
      "source": [],
      "metadata": {
        "id": "Mhij3_NEqCYU"
      },
      "execution_count": null,
      "outputs": []
    }
  ]
}