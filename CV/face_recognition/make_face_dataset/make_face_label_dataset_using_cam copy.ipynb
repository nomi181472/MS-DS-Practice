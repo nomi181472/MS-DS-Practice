{
 "cells": [
  {
   "cell_type": "code",
   "execution_count": 2,
   "id": "3f7a9683-c3d1-4348-a9bd-20eade36e1f6",
   "metadata": {},
   "outputs": [
    {
     "name": "stdout",
     "output_type": "stream",
     "text": [
      "data_set_not_for_upload\\noman\n",
      "saved->noman_1.jpg\n",
      "saved->noman_2.jpg\n",
      "saved->noman_3.jpg\n",
      "saved->noman_4.jpg\n",
      "saved->noman_5.jpg\n",
      "saved->noman_6.jpg\n",
      "saved->noman_7.jpg\n",
      "saved->noman_8.jpg\n",
      "saved->noman_9.jpg\n",
      "saved->noman_10.jpg\n",
      "saved->noman_11.jpg\n",
      "saved->noman_12.jpg\n",
      "saved->noman_13.jpg\n",
      "saved->noman_14.jpg\n",
      "saved->noman_15.jpg\n",
      "saved->noman_16.jpg\n",
      "saved->noman_17.jpg\n",
      "saved->noman_18.jpg\n",
      "saved->noman_19.jpg\n",
      "saved->noman_20.jpg\n"
     ]
    }
   ],
   "source": [
    "import cv2\n",
    "import os\n",
    "\n",
    "def capture_images(cp, name, img_size=(128, 128)):\n",
    "    cam = cv2.VideoCapture(0)\n",
    "    cv2.namedWindow(\"Capture Face\")\n",
    "\n",
    "    face_id = name.split('/')[-1]  # Get the last part of the path for the face_id\n",
    "    count = 0\n",
    "    face_cascade = cv2.CascadeClassifier('haarcascade_frontalface_default.xml')\n",
    "    \n",
    "    while True:\n",
    "        ret, frame = cam.read()\n",
    "        if not ret:\n",
    "            print(\"Failed to grab frame.\")\n",
    "            break\n",
    "        gray = cv2.cvtColor(frame, cv2.COLOR_BGR2GRAY)\n",
    "        faces = face_cascade.detectMultiScale(gray, 1.3, 5)\n",
    "\n",
    "        for (x, y, w, h) in faces:\n",
    "            cv2.rectangle(frame, (x, y), (x + w, y + h), (255, 0, 0), 2)\n",
    "            count += 1\n",
    "            \n",
    "            # Extract the face region\n",
    "            face = gray[y:y + h, x:x + w]\n",
    "            \n",
    "            # Resize the face to the desired size (e.g., 100x100 pixels)\n",
    "            resized_face = cv2.resize(face, img_size)\n",
    "            \n",
    "            # Save the resized image\n",
    "            save_p = os.path.join(cp, f\"{name}_{count}.jpg\")\n",
    "            cv2.imwrite(save_p, resized_face)\n",
    "            print(f\"saved->{name}_{count}.jpg\")\n",
    "\n",
    "        cv2.imshow(\"Capture Face\", frame)\n",
    "        k = cv2.waitKey(1)\n",
    "        if k % 256 == 27 or count >= 20:  # ESC or 20 images collected\n",
    "            break\n",
    "\n",
    "    cam.release()\n",
    "    cv2.destroyAllWindows()\n",
    "\n",
    "# Call the function\n",
    "data = \"data_set_not_for_upload\"\n",
    "if not os.path.exists(data):\n",
    "    os.makedirs(data)\n",
    "\n",
    "employee_name = \"noman\"\n",
    "path = os.path.join(data, employee_name)\n",
    "if not os.path.exists(path):\n",
    "    os.makedirs(path)\n",
    "\n",
    "print(path)\n",
    "capture_images(path, employee_name)\n"
   ]
  },
  {
   "cell_type": "code",
   "execution_count": 18,
   "id": "d7a85c5d-1cde-458d-a994-00106c637c80",
   "metadata": {},
   "outputs": [],
   "source": []
  },
  {
   "cell_type": "code",
   "execution_count": null,
   "id": "7234ba3c-f375-4b99-8150-21fb36745290",
   "metadata": {},
   "outputs": [],
   "source": []
  }
 ],
 "metadata": {
  "kernelspec": {
   "display_name": "Python 3 (ipykernel)",
   "language": "python",
   "name": "python3"
  },
  "language_info": {
   "codemirror_mode": {
    "name": "ipython",
    "version": 3
   },
   "file_extension": ".py",
   "mimetype": "text/x-python",
   "name": "python",
   "nbconvert_exporter": "python",
   "pygments_lexer": "ipython3",
   "version": "3.12.3"
  }
 },
 "nbformat": 4,
 "nbformat_minor": 5
}
