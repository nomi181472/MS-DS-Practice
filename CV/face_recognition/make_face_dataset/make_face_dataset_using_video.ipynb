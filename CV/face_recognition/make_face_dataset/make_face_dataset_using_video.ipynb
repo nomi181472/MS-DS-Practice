{
 "cells": [
  {
   "cell_type": "code",
   "execution_count": 2,
   "id": "b88878d3-b676-4bd5-9789-13964da5971f",
   "metadata": {},
   "outputs": [
    {
     "name": "stdout",
     "output_type": "stream",
     "text": [
      "data_set_not_for_upload\\noman\n",
      "Failed to grab frame.\n"
     ]
    }
   ],
   "source": [
    "import cv2\n",
    "import os\n",
    "\n",
    "def capture_images(cp,name):\n",
    "    cam = cv2.VideoCapture(\"vid3.mp4\")\n",
    "    cv2.namedWindow(\"Capture Face\")\n",
    "\n",
    "    face_id = name.split('/')[-1]  # Get the last part of the path for the face_id\n",
    "    count = 0\n",
    "    face_cascade = cv2.CascadeClassifier('haarcascade_frontalface_default.xml')\n",
    "    \n",
    "    while True:\n",
    "        ret, frame = cam.read()\n",
    "        if not ret:\n",
    "            print(\"Failed to grab frame.\")\n",
    "            break\n",
    "        gray = cv2.cvtColor(frame, cv2.COLOR_BGR2GRAY)\n",
    "        faces = face_cascade.detectMultiScale(gray, 1.3, 5)\n",
    "\n",
    "        for (x, y, w, h) in faces:\n",
    "            cv2.rectangle(frame, (x, y), (x + w, y + h), (255, 0, 0), 2)\n",
    "            count += 1\n",
    "            save_p = os.path.join(cp, f\"{name}_{count}.jpg\")  # Append .jpg here\n",
    "            cv2.imwrite(save_p, gray[y:y + h, x:x + w])  # Save the image\n",
    "\n",
    "        cv2.imshow(\"Capture Face\", frame)\n",
    "        k = cv2.waitKey(1)\n",
    "        if k % 256 == 27 :  # ESC or 20 images collected\n",
    "            break\n",
    "\n",
    "    cam.release()\n",
    "    cv2.destroyAllWindows()\n",
    "\n",
    "# Call the function\n",
    "data = \"data_set_not_for_upload\"\n",
    "if not os.path.exists(data):\n",
    "    os.makedirs(data)\n",
    "\n",
    "employee_name = \"noman\"\n",
    "path = os.path.join(data, employee_name)\n",
    "if not os.path.exists(path):\n",
    "    os.makedirs(path)\n",
    "\n",
    "print(path)\n",
    "capture_images(path,employee_name)\n"
   ]
  },
  {
   "cell_type": "code",
   "execution_count": null,
   "id": "779ef3c3-cc73-4543-a2e3-91661b305a86",
   "metadata": {},
   "outputs": [],
   "source": []
  }
 ],
 "metadata": {
  "kernelspec": {
   "display_name": "Python 3 (ipykernel)",
   "language": "python",
   "name": "python3"
  },
  "language_info": {
   "codemirror_mode": {
    "name": "ipython",
    "version": 3
   },
   "file_extension": ".py",
   "mimetype": "text/x-python",
   "name": "python",
   "nbconvert_exporter": "python",
   "pygments_lexer": "ipython3",
   "version": "3.11.7"
  }
 },
 "nbformat": 4,
 "nbformat_minor": 5
}
