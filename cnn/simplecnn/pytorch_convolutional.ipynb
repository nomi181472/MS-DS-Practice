{
  "nbformat": 4,
  "nbformat_minor": 0,
  "metadata": {
    "colab": {
      "provenance": [],
      "authorship_tag": "ABX9TyNCAVX4x9pxWOf6TlCd2s8D",
      "include_colab_link": true
    },
    "kernelspec": {
      "name": "python3",
      "display_name": "Python 3"
    },
    "language_info": {
      "name": "python"
    }
  },
  "cells": [
    {
      "cell_type": "markdown",
      "metadata": {
        "id": "view-in-github",
        "colab_type": "text"
      },
      "source": [
        "<a href=\"https://colab.research.google.com/github/nomi181472/MS-DS-Practice/blob/main/cnn/simplecnn/pytorch_convolutional.ipynb\" target=\"_parent\"><img src=\"https://colab.research.google.com/assets/colab-badge.svg\" alt=\"Open In Colab\"/></a>"
      ]
    },
    {
      "cell_type": "code",
      "execution_count": 1,
      "metadata": {
        "id": "JlWSzWABc42f"
      },
      "outputs": [],
      "source": [
        "import torch\n",
        "import torch.nn as nn\n",
        "import torchvision\n",
        "import torchvision.transforms as transforms\n",
        "import numpy as np\n",
        "import matplotlib.pyplot as plt\n",
        "from datetime import datetime"
      ]
    },
    {
      "cell_type": "code",
      "source": [
        "train_dataset=torchvision.datasets.FashionMNIST(\n",
        "    root=\",\",\n",
        "    train=True,\n",
        "    transform=transforms.ToTensor(),\n",
        "    download=True\n",
        ")"
      ],
      "metadata": {
        "colab": {
          "base_uri": "https://localhost:8080/"
        },
        "id": "kXJIPTFWL8fU",
        "outputId": "69ebcb52-a7bd-4089-aef2-b2844a2e4f6e"
      },
      "execution_count": 2,
      "outputs": [
        {
          "output_type": "stream",
          "name": "stdout",
          "text": [
            "Downloading http://fashion-mnist.s3-website.eu-central-1.amazonaws.com/train-images-idx3-ubyte.gz\n",
            "Downloading http://fashion-mnist.s3-website.eu-central-1.amazonaws.com/train-images-idx3-ubyte.gz to ,/FashionMNIST/raw/train-images-idx3-ubyte.gz\n"
          ]
        },
        {
          "output_type": "stream",
          "name": "stderr",
          "text": [
            "100%|██████████| 26421880/26421880 [00:01<00:00, 13610658.40it/s]\n"
          ]
        },
        {
          "output_type": "stream",
          "name": "stdout",
          "text": [
            "Extracting ,/FashionMNIST/raw/train-images-idx3-ubyte.gz to ,/FashionMNIST/raw\n",
            "\n",
            "Downloading http://fashion-mnist.s3-website.eu-central-1.amazonaws.com/train-labels-idx1-ubyte.gz\n",
            "Downloading http://fashion-mnist.s3-website.eu-central-1.amazonaws.com/train-labels-idx1-ubyte.gz to ,/FashionMNIST/raw/train-labels-idx1-ubyte.gz\n"
          ]
        },
        {
          "output_type": "stream",
          "name": "stderr",
          "text": [
            "100%|██████████| 29515/29515 [00:00<00:00, 229052.12it/s]\n"
          ]
        },
        {
          "output_type": "stream",
          "name": "stdout",
          "text": [
            "Extracting ,/FashionMNIST/raw/train-labels-idx1-ubyte.gz to ,/FashionMNIST/raw\n",
            "\n",
            "Downloading http://fashion-mnist.s3-website.eu-central-1.amazonaws.com/t10k-images-idx3-ubyte.gz\n",
            "Downloading http://fashion-mnist.s3-website.eu-central-1.amazonaws.com/t10k-images-idx3-ubyte.gz to ,/FashionMNIST/raw/t10k-images-idx3-ubyte.gz\n"
          ]
        },
        {
          "output_type": "stream",
          "name": "stderr",
          "text": [
            "100%|██████████| 4422102/4422102 [00:01<00:00, 4267879.31it/s]\n"
          ]
        },
        {
          "output_type": "stream",
          "name": "stdout",
          "text": [
            "Extracting ,/FashionMNIST/raw/t10k-images-idx3-ubyte.gz to ,/FashionMNIST/raw\n",
            "\n",
            "Downloading http://fashion-mnist.s3-website.eu-central-1.amazonaws.com/t10k-labels-idx1-ubyte.gz\n",
            "Downloading http://fashion-mnist.s3-website.eu-central-1.amazonaws.com/t10k-labels-idx1-ubyte.gz to ,/FashionMNIST/raw/t10k-labels-idx1-ubyte.gz\n"
          ]
        },
        {
          "output_type": "stream",
          "name": "stderr",
          "text": [
            "100%|██████████| 5148/5148 [00:00<00:00, 23469866.30it/s]"
          ]
        },
        {
          "output_type": "stream",
          "name": "stdout",
          "text": [
            "Extracting ,/FashionMNIST/raw/t10k-labels-idx1-ubyte.gz to ,/FashionMNIST/raw\n",
            "\n"
          ]
        },
        {
          "output_type": "stream",
          "name": "stderr",
          "text": [
            "\n"
          ]
        }
      ]
    },
    {
      "cell_type": "code",
      "source": [
        "  print(train_dataset.data.shape)\n",
        "  print(train_dataset.targets.shape)"
      ],
      "metadata": {
        "colab": {
          "base_uri": "https://localhost:8080/"
        },
        "id": "b48HxIX6MQJw",
        "outputId": "a8cabf07-e552-43f0-b6f2-a8b2a15a63e5"
      },
      "execution_count": 9,
      "outputs": [
        {
          "output_type": "stream",
          "name": "stdout",
          "text": [
            "torch.Size([60000, 28, 28])\n",
            "torch.Size([60000])\n"
          ]
        }
      ]
    },
    {
      "cell_type": "code",
      "source": [
        "test_dataset=torchvision.datasets.FashionMNIST(\n",
        "    root=\",\",\n",
        "    train=False,\n",
        "    transform=transforms.ToTensor(),\n",
        "    download=True\n",
        ")"
      ],
      "metadata": {
        "id": "NEqL8ENXMWaW"
      },
      "execution_count": 11,
      "outputs": []
    },
    {
      "cell_type": "code",
      "source": [
        "  print(test_dataset.data.shape)\n",
        "  print(test_dataset.targets.shape)"
      ],
      "metadata": {
        "colab": {
          "base_uri": "https://localhost:8080/"
        },
        "id": "AeG_BCFjM3Dw",
        "outputId": "9df85230-f628-4575-d12b-81c181590263"
      },
      "execution_count": 12,
      "outputs": [
        {
          "output_type": "stream",
          "name": "stdout",
          "text": [
            "torch.Size([10000, 28, 28])\n",
            "torch.Size([10000])\n"
          ]
        }
      ]
    },
    {
      "cell_type": "code",
      "source": [
        "#define the model\n",
        "\n",
        "class CNN(nn.Module):\n",
        "  def __init__(self,K):\n",
        "    super(CNN,self,).__init__()\n",
        "    self.conv_layers=nn.Sequential(\n",
        "        nn.Conv2d(in_channels=1,out_channels=32,kernel_size=3,stride=2),\n",
        "        nn.ReLU(),\n",
        "        nn.Conv2d(in_channels=32,out_channels=64,kernel_size=3,stride=2),\n",
        "        nn.ReLU(),\n",
        "        nn.Conv2d(in_channels=64,out_channels=128,kernel_size=3,stride=2),\n",
        "        nn.ReLU()\n",
        "\n",
        "    )\n",
        "    self.dense_layers=nn.Sequential(\n",
        "        nn.Dropout(0.2),\n",
        "        nn.Linear(128*2*2,512),\n",
        "        nn.ReLU(),\n",
        "        nn.Dropout(0.2),\n",
        "        nn.Linear(512,K)\n",
        "    )\n",
        "  def forward(self,x):\n",
        "\n",
        "    out=self.conv_layers(x)\n",
        "    out=out.view(out.size(0),-1)\n",
        "\n",
        "    out=self.dense_layers(out)\n",
        "\n",
        "    return out"
      ],
      "metadata": {
        "id": "LNI_XE8KM9Hg"
      },
      "execution_count": 75,
      "outputs": []
    },
    {
      "cell_type": "code",
      "source": [
        "model=CNN(10)\n",
        "device=torch.device(\"cuda:0\" if torch.cuda.is_available() else \"cpu\")\n",
        "print(device)\n",
        "model.to(device)"
      ],
      "metadata": {
        "colab": {
          "base_uri": "https://localhost:8080/"
        },
        "id": "e7v9QBRENqPO",
        "outputId": "a752517a-3fcc-4ebc-dca3-71077b7677d1"
      },
      "execution_count": 76,
      "outputs": [
        {
          "output_type": "stream",
          "name": "stdout",
          "text": [
            "cpu\n"
          ]
        },
        {
          "output_type": "execute_result",
          "data": {
            "text/plain": [
              "CNN(\n",
              "  (conv_layers): Sequential(\n",
              "    (0): Conv2d(1, 32, kernel_size=(3, 3), stride=(2, 2))\n",
              "    (1): ReLU()\n",
              "    (2): Conv2d(32, 64, kernel_size=(3, 3), stride=(2, 2))\n",
              "    (3): ReLU()\n",
              "    (4): Conv2d(64, 128, kernel_size=(3, 3), stride=(2, 2))\n",
              "    (5): ReLU()\n",
              "  )\n",
              "  (dense_layers): Sequential(\n",
              "    (0): Dropout(p=0.2, inplace=False)\n",
              "    (1): Linear(in_features=512, out_features=512, bias=True)\n",
              "    (2): ReLU()\n",
              "    (3): Dropout(p=0.2, inplace=False)\n",
              "    (4): Linear(in_features=512, out_features=10, bias=True)\n",
              "  )\n",
              ")"
            ]
          },
          "metadata": {},
          "execution_count": 76
        }
      ]
    },
    {
      "cell_type": "code",
      "source": [
        "criterion=nn.CrossEntropyLoss()\n",
        "optimizer=torch.optim.Adam(model.parameters())"
      ],
      "metadata": {
        "id": "7pabRHX4NsXV"
      },
      "execution_count": 77,
      "outputs": []
    },
    {
      "cell_type": "code",
      "source": [
        "batch_size=128\n",
        "train_loader=torch.utils.data.DataLoader(\n",
        "    dataset=train_dataset,\n",
        "    batch_size=batch_size,\n",
        "    shuffle=True\n",
        ")\n",
        "test_loader=torch.utils.data.DataLoader(\n",
        "    dataset=test_dataset,\n",
        "    batch_size=batch_size,\n",
        "    shuffle=True\n",
        ")"
      ],
      "metadata": {
        "id": "p1yB160GPTpT"
      },
      "execution_count": 78,
      "outputs": []
    },
    {
      "cell_type": "code",
      "source": [
        "def batch_gd(model,criterion,optimizer,train_loader,test_loader,epochs):\n",
        "  train_losses=np.zeros(epochs)\n",
        "  test_losses=np.zeros(epochs)\n",
        "  for it in range(epochs):\n",
        "    model.train()\n",
        "    t0=datetime.now()\n",
        "    train_loss=[]\n",
        "\n",
        "\n",
        "    for inputs,targets in train_loader:\n",
        "      inputs=inputs.to(device)\n",
        "      targets=targets.to(device)\n",
        "      optimizer.zero_grad()\n",
        "      outputs=model(inputs)\n",
        "      optimizer.zero_grad()\n",
        "      loss=criterion(outputs,targets)\n",
        "      loss.backward()\n",
        "      optimizer.step()\n",
        "      train_loss.append(loss.item())\n",
        "\n",
        "    train_loss=np.mean(train_loss)\n",
        "    model.eval()\n",
        "    test_loss=[]\n",
        "    for inputs, targets in test_loader:\n",
        "      inputs,targets =inputs.to(device),targets.to(device)\n",
        "      outputs=model(inputs)\n",
        "      loss=criterion(outputs,targets)\n",
        "      test_loss.append(loss.item())\n",
        "    test_loss=np.mean(test_loss)\n",
        "\n",
        "    train_losses[it]=train_loss\n",
        "    test_losses[it]=test_loss\n",
        "\n",
        "    t1=datetime.now()-t0\n",
        "    print(f\"epoch {it+1}/{epochs} train loss: {train_loss} test loss {test_loss}\")\n",
        "  return train_losses, test_losses\n",
        "\n",
        "\n",
        "train_losses,test_losses=batch_gd(model,criterion,optimizer,train_loader,test_loader, epochs=15)\n",
        "\n",
        "\n",
        "\n",
        "\n",
        "\n",
        "\n",
        "\n"
      ],
      "metadata": {
        "colab": {
          "base_uri": "https://localhost:8080/"
        },
        "id": "WED18QzTPqN_",
        "outputId": "c35b4c0b-a576-4c3a-f2df-ae3986f79918"
      },
      "execution_count": 82,
      "outputs": [
        {
          "output_type": "stream",
          "name": "stdout",
          "text": [
            "epoch 1/15 train loss: 0.3790844683962336 test loss 0.3659041391897805\n",
            "epoch 2/15 train loss: 0.3480894373678195 test loss 0.35368625819683075\n",
            "epoch 3/15 train loss: 0.3203040600649075 test loss 0.33703524798532075\n",
            "epoch 4/15 train loss: 0.29925402506455173 test loss 0.3154578791766227\n",
            "epoch 5/15 train loss: 0.2789844416860324 test loss 0.3111358801775341\n",
            "epoch 6/15 train loss: 0.26184178567898553 test loss 0.3086193449135068\n",
            "epoch 7/15 train loss: 0.24689339018706827 test loss 0.28973068768465066\n",
            "epoch 8/15 train loss: 0.23183438418580016 test loss 0.2999078755891776\n",
            "epoch 9/15 train loss: 0.2202878930707222 test loss 0.28769916352591934\n",
            "epoch 10/15 train loss: 0.20818318356710203 test loss 0.2909632685441005\n",
            "epoch 11/15 train loss: 0.1961625371851138 test loss 0.2829446083382715\n",
            "epoch 12/15 train loss: 0.18380327093829987 test loss 0.29264108534855177\n",
            "epoch 13/15 train loss: 0.17457176776710095 test loss 0.29367198667760136\n",
            "epoch 14/15 train loss: 0.16536932869919582 test loss 0.3015430928974212\n",
            "epoch 15/15 train loss: 0.1573034958766976 test loss 0.2865667535534388\n"
          ]
        }
      ]
    },
    {
      "cell_type": "code",
      "source": [],
      "metadata": {
        "id": "xpzlQOahT0nJ"
      },
      "execution_count": 44,
      "outputs": []
    }
  ]
}