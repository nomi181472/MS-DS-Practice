{
  "nbformat": 4,
  "nbformat_minor": 0,
  "metadata": {
    "colab": {
      "provenance": [],
      "authorship_tag": "ABX9TyNcrDxQWGo74MrAzYfnPk6c",
      "include_colab_link": true
    },
    "kernelspec": {
      "name": "python3",
      "display_name": "Python 3"
    },
    "language_info": {
      "name": "python"
    }
  },
  "cells": [
    {
      "cell_type": "markdown",
      "metadata": {
        "id": "view-in-github",
        "colab_type": "text"
      },
      "source": [
        "<a href=\"https://colab.research.google.com/github/nomi181472/MS-DS-Practice/blob/main/cnn/Resnet.ipynb\" target=\"_parent\"><img src=\"https://colab.research.google.com/assets/colab-badge.svg\" alt=\"Open In Colab\"/></a>"
      ]
    },
    {
      "cell_type": "code",
      "execution_count": 1,
      "metadata": {
        "colab": {
          "base_uri": "https://localhost:8080/"
        },
        "id": "nMRinPv45kGQ",
        "outputId": "7d9dfbfb-f820-49f4-ee10-37d454574a87"
      },
      "outputs": [
        {
          "output_type": "stream",
          "name": "stdout",
          "text": [
            "torch.Size([1, 1000])\n"
          ]
        }
      ],
      "source": [
        "import torch\n",
        "import torch.nn as nn\n",
        "\n",
        "class ConvBlock(nn.Module):\n",
        "    def __init__(self,in_channels,out_channels,kernel_size,stride,padding):\n",
        "        super().__init__()\n",
        "        self.c=nn.Conv2d(in_channels,out_channels,kernel_size,stride,padding)\n",
        "        self.bn=nn.BatchNorm2d(out_channels)\n",
        "    def forward(self,x):\n",
        "        return self.bn(self.c(x))\n",
        "#residual\n",
        "class ResidualBlock(nn.Module):\n",
        "    def __init__(self,in_channels,out_channels,first=False):\n",
        "        super().__init__()\n",
        "        res_channels=in_channels//4\n",
        "        stride=1\n",
        "\n",
        "\n",
        "        self.projection=in_channels!=out_channels\n",
        "        if self.projection:\n",
        "            self.p=ConvBlock(in_channels,out_channels,1,2,0\n",
        "                             )\n",
        "            stride=2\n",
        "            res_channels=in_channels//2\n",
        "        if first:\n",
        "            self.p=ConvBlock(in_channels,out_channels,1,1,0\n",
        "                             )\n",
        "            stride=1\n",
        "            res_channels=in_channels\n",
        "\n",
        "\n",
        "        self.c1=ConvBlock(in_channels,res_channels,1,1,0)\n",
        "        self.c2=ConvBlock(res_channels,res_channels,3,stride,1)\n",
        "        self.c3=ConvBlock(res_channels,out_channels,1,1,0)\n",
        "        self.relu=nn.ReLU()\n",
        "    def forward(self,x):\n",
        "        f=self.relu(self.c1(x))\n",
        "        f=self.relu(self.c2(f))\n",
        "        f=self.c3(f)\n",
        "\n",
        "        if self.projection:\n",
        "            x=self.p(x)\n",
        "\n",
        "        h=self.relu(torch.add(f,x))\n",
        "        return h\n",
        "\n",
        "\n",
        "class Resnet(nn.Module):\n",
        "    def __init__(self,no_blocks,in_channels=3,classes=1000):\n",
        "        super().__init__()\n",
        "        out_features=[256,512,1024,2048]\n",
        "        self.blocks=nn.ModuleList([ResidualBlock(64,256,True)])\n",
        "\n",
        "        for i in range(len(out_features)):\n",
        "            if i>0:\n",
        "                self.blocks.append(ResidualBlock(out_features[i-1],out_features[i]))\n",
        "            for _ in range(no_blocks[i]-1):\n",
        "                self.blocks.append(ResidualBlock(out_features[i],out_features[i]))\n",
        "        self.conv1=ConvBlock(in_channels,64,7,2,3)\n",
        "        self.maxpool=nn.MaxPool2d(kernel_size=3,stride=2,padding=1)\n",
        "        self.avgpool=nn.AdaptiveAvgPool2d((1,1))\n",
        "        self.fc=nn.Linear(2048,classes)\n",
        "        self.relu=nn.ReLU()\n",
        "    def forward(self,x):\n",
        "        x=self.relu(self.conv1(x))\n",
        "        x=self.maxpool(x)\n",
        "        for block in self.blocks:\n",
        "            x=block(x)\n",
        "        x=self.avgpool(x)\n",
        "        x=torch.flatten(x,1)\n",
        "        x=self.fc(x)\n",
        "        return x\n",
        "no_blocks=[3,4,6,3]\n",
        "res=Resnet(no_blocks,)\n",
        "print(res(torch.rand(1,3,224,224)).shape)\n",
        "\n"
      ]
    },
    {
      "cell_type": "code",
      "source": [],
      "metadata": {
        "id": "f7cPjdG95nfn"
      },
      "execution_count": null,
      "outputs": []
    }
  ]
}